{
 "metadata": {
  "language_info": {
   "codemirror_mode": {
    "name": "ipython",
    "version": 3
   },
   "file_extension": ".py",
   "mimetype": "text/x-python",
   "name": "python",
   "nbconvert_exporter": "python",
   "pygments_lexer": "ipython3",
   "version": "3.8.3-final"
  },
  "orig_nbformat": 2,
  "kernelspec": {
   "name": "python_defaultSpec_1599395593085",
   "display_name": "Python 3.8.3 32-bit"
  }
 },
 "nbformat": 4,
 "nbformat_minor": 2,
 "cells": [
  {
   "cell_type": "code",
   "execution_count": 16,
   "metadata": {
    "tags": []
   },
   "outputs": [
    {
     "output_type": "stream",
     "name": "stdout",
     "text": "Profit : [12, 17, 9, 16, 15]\nWeight : [5, 6, 3, 4, 2]\nCapacity : 12\nTotal Weight:  12.0\nTotal Profit:  48.5\n"
    }
   ],
   "source": [
    "# PRACTICAL-8 \n",
    "# Knapsack Problems \n",
    "\n",
    "import numpy as np\n",
    "\n",
    "# profit = [10,5,15,7,6,18,3]\n",
    "# weight = [2,3,5,7,1,4,1]\n",
    "# capacity = 15\n",
    "profit = [15,12,9,16,17]\n",
    "weight = [2,5,3,4,6]\n",
    "capacity = 12\n",
    "# Profit per weight\n",
    "ppw = []\n",
    "\n",
    "# Selected Knapsack value it's value is in between 0 and 1\n",
    "x = np.zeros(len(weight))\n",
    "\n",
    "# Getting Profit per weight\n",
    "for i in range(len(weight)):\n",
    "    ppw.append(profit[i]/weight[i])\n",
    "\n",
    "# Arrange all details in order \n",
    "minimum = 0\n",
    "for i in range(len(ppw)):\n",
    "    minimum = i\n",
    "    for j in range(i+1,len(ppw)):\n",
    "        if ppw[j] < ppw[minimum]:\n",
    "            minimum = j \n",
    "    # swap of ppw\n",
    "    temp = ppw[i]\n",
    "    ppw[i] = ppw[minimum]\n",
    "    ppw[minimum] = temp\n",
    "\n",
    "    # swap of profit\n",
    "    temp_profit = profit[i]\n",
    "    profit[i] = profit[minimum]\n",
    "    profit[minimum] = temp_profit\n",
    "\n",
    "    # swap of weight\n",
    "    temp_weight = weight[i]\n",
    "    weight[i] = weight[minimum]\n",
    "    weight[minimum] = temp_weight\n",
    "\n",
    "# print(profit)\n",
    "# print(weight)\n",
    "# print(ppw)\n",
    "\n",
    "remainingWeight = capacity\n",
    "for i in range(1,len(ppw)+1):\n",
    "\n",
    "    if weight[-i] <= remainingWeight:\n",
    "        x[-i] = 1\n",
    "        remainingWeight = remainingWeight-weight[-i]\n",
    "    elif weight[-i] > remainingWeight and remainingWeight != 0:\n",
    "        x[-i] = remainingWeight/weight[-i]\n",
    "        remainingWeight = 0\n",
    "    else:\n",
    "        x[-i] = 0\n",
    "\n",
    "# Getting final result here\n",
    "totalWeight = 0\n",
    "totalProfit = 0\n",
    "for i in range(len(x)):\n",
    "    curr_weight = x[i]*weight[i]\n",
    "    totalWeight = totalWeight + curr_weight\n",
    "\n",
    "    curr_profit = x[i]*profit[i]\n",
    "    totalProfit = totalProfit+curr_profit\n",
    "\n",
    "print(\"Profit :\",profit)\n",
    "print(\"Weight :\",weight)\n",
    "print(\"Capacity :\",capacity)\n",
    "print(\"Total Weight: \",totalWeight)\n",
    "print(\"Total Profit: \", totalProfit)\n"
   ]
  },
  {
   "cell_type": "code",
   "execution_count": null,
   "metadata": {},
   "outputs": [],
   "source": []
  },
  {
   "cell_type": "code",
   "execution_count": null,
   "metadata": {},
   "outputs": [],
   "source": []
  }
 ]
}